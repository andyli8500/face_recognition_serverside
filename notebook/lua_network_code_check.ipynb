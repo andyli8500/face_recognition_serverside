{
 "cells": [
  {
   "cell_type": "code",
   "execution_count": null,
   "metadata": {
    "collapsed": false
   },
   "outputs": [],
   "source": [
    "require 'torch'\n",
    "require 'nn'\n",
    "require 'dpnn'\n",
    "require 'image'\n",
    "\n",
    "--io.stdout:setvbuf 'no'\n",
    "torch.setdefaulttensortype('torch.FloatTensor')\n",
    "\n",
    "-- OpenMP-acceleration causes slower performance. Related issues:\n",
    "-- https://groups.google.com/forum/#!topic/cmu-openface/vqkkDlbfWZw\n",
    "-- https://github.com/torch/torch7/issues/691\n",
    "-- https://github.com/torch/image/issues/7\n",
    "torch.setnumthreads(1)\n",
    "\n",
    "-- local cmd = torch.CmdLine()\n",
    "-- cmd:text()\n",
    "-- cmd:text('Face recognition server.')\n",
    "-- cmd:text()\n",
    "-- cmd:text('Options:')\n",
    "\n",
    "-- cmd:option('-model', '/media/data/frmwrks/faceface/openface/models/openface/nn4.small2.v1.t7', 'Path to model.')\n",
    "-- cmd:option('-imgDim', 96, 'Image dimension. nn1=224, nn4=96')\n",
    "-- cmd:option('-cuda', false)\n",
    "-- cmd:text()\n",
    "model_path = '/media/data/frmwrks/faceface/openface/models/openface/nn4.small2.v1.t7'\n",
    "-- opt = cmd:parse(arg or {})\n",
    "-- print(opt)\n",
    "\n",
    "net = torch.load(opt.model)\n",
    "net:evaluate()\n",
    "-- print(net)\n",
    "\n",
    "local imgCuda = nil\n",
    "if opt.cuda then\n",
    "   require 'cutorch'\n",
    "   require 'cunn'\n",
    "   net = net:cuda()\n",
    "   imgCuda = torch.CudaTensor(1, 3, opt.imgDim, opt.imgDim)\n",
    "end\n",
    "\n"
   ]
  },
  {
   "cell_type": "code",
   "execution_count": 4,
   "metadata": {
    "collapsed": true
   },
   "outputs": [],
   "source": [
    "local img = torch.Tensor(1, 3, opt.imgDim, opt.imgDim)\n",
    "while true do\n",
    "   -- Read a path to an image on stdin and output the representation\n",
    "   -- as a CSV.\n",
    "   local imgPath = io.read(\"*line\")\n",
    "   if imgPath and imgPath:len() ~= 0 then\n",
    "      img[1] = image.load(imgPath, 3, byte)\n",
    "      img[1] = image.scale(img[1], opt.imgDim, opt.imgDim)\n",
    "      local rep\n",
    "      if opt.cuda then\n",
    "         imgCuda:copy(img)\n",
    "         rep = net:forward(imgCuda):float()\n",
    "      else\n",
    "         rep = net:forward(img)\n",
    "      end\n",
    "      local sz = rep:size(1)\n",
    "      for i = 1,sz do\n",
    "         io.write(rep[i])\n",
    "         if i < sz then\n",
    "            io.write(',')\n",
    "         end\n",
    "      end\n",
    "      io.write('\\n')\n",
    "      io.stdout:flush()\n",
    "   end\n",
    "end\n"
   ]
  },
  {
   "cell_type": "code",
   "execution_count": null,
   "metadata": {
    "collapsed": true
   },
   "outputs": [],
   "source": []
  }
 ],
 "metadata": {
  "kernelspec": {
   "display_name": "iTorch",
   "language": "lua",
   "name": "itorch"
  },
  "language_info": {
   "name": "lua",
   "version": "5.1"
  }
 },
 "nbformat": 4,
 "nbformat_minor": 0
}
