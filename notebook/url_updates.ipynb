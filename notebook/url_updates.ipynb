{
 "cells": [
  {
   "cell_type": "code",
   "execution_count": 1,
   "metadata": {
    "collapsed": true
   },
   "outputs": [],
   "source": [
    "import cPickle\n",
    "with open('../static/url.pkl') as fh:\n",
    "    urldat = cPickle.load(fh)"
   ]
  },
  {
   "cell_type": "code",
   "execution_count": 2,
   "metadata": {
    "collapsed": false
   },
   "outputs": [
    {
     "data": {
      "text/plain": [
       "dict"
      ]
     },
     "execution_count": 2,
     "metadata": {},
     "output_type": "execute_result"
    }
   ],
   "source": [
    "type(urldat)"
   ]
  },
  {
   "cell_type": "code",
   "execution_count": 3,
   "metadata": {
    "collapsed": false
   },
   "outputs": [
    {
     "data": {
      "text/plain": [
       "[(u'',\n",
       "  {u'fb': [u'https: nothing'],\n",
       "   u'im': [u'na'],\n",
       "   u'li': [u'na'],\n",
       "   u'tw': [u'https://twitter.com/?lang=en-au'],\n",
       "   u'wi': [u'https://en.wikipedia.org/wiki/Main_Page']}),\n",
       " (u'jayne_yarris',\n",
       "  {u'fb': [u'https://www.facebook.com/mynextlifesue'],\n",
       "   u'im': [u'na'],\n",
       "   u'li': [u'https://www.linkedin.com/in/jayneharris'],\n",
       "   u'tw': [u'https://twitter.com/NickYarris?ref_src=twsrc%5Egoogle%7Ctwcamp%5Eserp%7Ctwgr%5Eauthor'],\n",
       "   u'wi': [u'na']}),\n",
       " (u'allison_searing',\n",
       "  {u'fb': [u'https://www.facebook.com/devilbunnyphotography'],\n",
       "   u'im': [u'na'],\n",
       "   u'li': [u'https://www.linkedin.com/in/allison-searing-0b515b38'],\n",
       "   u'tw': [u'https://twitter.com/AllisonRoad_HQ/status/739251685265117184?ref_src=twsrc%5Etfw'],\n",
       "   u'wi': [u'na']}),\n",
       " (u'kwame_kilpatrick',\n",
       "  {u'fb': [u'https://www.facebook.com/nofriendsof.kwamekilpatrick'],\n",
       "   u'im': [u'na'],\n",
       "   u'li': [u'https://www.linkedin.com/in/kwame-kilpatrick-510b247'],\n",
       "   u'tw': [u'https://twitter.com/kwameandfamily'],\n",
       "   u'wi': [u'https://en.wikipedia.org/wiki/Kwame_Kilpatrick']}),\n",
       " (u'leszek_miller',\n",
       "  {u'fb': [u'https://www.facebook.com/leszek.miller.5'],\n",
       "   u'im': [u'na'],\n",
       "   u'li': [u'https://www.linkedin.com/in/karolina-laskowski-192bb573'],\n",
       "   u'tw': [u'https://twitter.com/LeszekMiller'],\n",
       "   u'wi': [u'https://en.wikipedia.org/wiki/Leszek_Miller']})]"
      ]
     },
     "execution_count": 3,
     "metadata": {},
     "output_type": "execute_result"
    }
   ],
   "source": [
    "urldat.items()[:5]"
   ]
  },
  {
   "cell_type": "code",
   "execution_count": null,
   "metadata": {
    "collapsed": true
   },
   "outputs": [],
   "source": []
  }
 ],
 "metadata": {
  "kernelspec": {
   "display_name": "Python [Root]",
   "language": "python",
   "name": "Python [Root]"
  },
  "language_info": {
   "codemirror_mode": {
    "name": "ipython",
    "version": 2
   },
   "file_extension": ".py",
   "mimetype": "text/x-python",
   "name": "python",
   "nbconvert_exporter": "python",
   "pygments_lexer": "ipython2",
   "version": "2.7.12"
  }
 },
 "nbformat": 4,
 "nbformat_minor": 0
}
